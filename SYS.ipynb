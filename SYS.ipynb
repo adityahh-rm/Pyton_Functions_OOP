{
  "nbformat": 4,
  "nbformat_minor": 0,
  "metadata": {
    "colab": {
      "name": "SYS.ipynb",
      "provenance": [],
      "collapsed_sections": []
    },
    "kernelspec": {
      "name": "python3",
      "display_name": "Python 3"
    },
    "language_info": {
      "name": "python"
    }
  },
  "cells": [
    {
      "cell_type": "markdown",
      "source": [
        "# **SYS**\n",
        "\n",
        "---\n",
        "\n"
      ],
      "metadata": {
        "id": "bSRxKgxyZrxM"
      }
    },
    {
      "cell_type": "markdown",
      "source": [
        "The sys module provides functions and variables used to manipulate different parts of the Python runtime environment. You will learn some of the important features of this module here."
      ],
      "metadata": {
        "id": "L0rZ_L71OVK0"
      }
    },
    {
      "cell_type": "code",
      "source": [
        "import sys"
      ],
      "metadata": {
        "id": "kT2utTn99GLV"
      },
      "execution_count": null,
      "outputs": []
    },
    {
      "cell_type": "code",
      "source": [
        "try:\n",
        "  s=float(input(\"Type a number = \"))\n",
        "  y=float(input(\"Type a number = \"))\n",
        "  z=s*y\n",
        "  print(z)\n",
        "except (ValueError,TypeError):\n",
        "    print(\"Please check your entered number again!\")\n",
        "else:\n",
        "    print(\"Done\")"
      ],
      "metadata": {
        "id": "xpq30lcP9ZQ3"
      },
      "execution_count": null,
      "outputs": []
    },
    {
      "cell_type": "markdown",
      "source": [
        "### **sys.byteorder**\n",
        "\n",
        "An indicator of the native byte order.\n",
        "\n",
        "The value will be 'big' on big-endian (most-significant byte first) platforms, and 'little' on little-endian (least-significant byte first) platforms."
      ],
      "metadata": {
        "id": "xKjcv_e3aALt"
      }
    },
    {
      "cell_type": "code",
      "execution_count": null,
      "metadata": {
        "id": "jYrZ00kD6WCK"
      },
      "outputs": [],
      "source": [
        "import sys\n",
        "sys.byteorder"
      ]
    },
    {
      "cell_type": "markdown",
      "source": [
        "### **sys.maxsize**\n",
        "\n",
        "Returns the largest integer a variable can take."
      ],
      "metadata": {
        "id": "Y_HEaW8t659Q"
      }
    },
    {
      "cell_type": "code",
      "source": [
        "import sys\n",
        "sys.maxsize"
      ],
      "metadata": {
        "id": "fX-TtBcKawEp"
      },
      "execution_count": null,
      "outputs": []
    },
    {
      "cell_type": "markdown",
      "source": [
        "### **sys.path**\n",
        "\n",
        "This is an environment variable that is a search path for all Python modules."
      ],
      "metadata": {
        "id": "1LDbFyJn7CJd"
      }
    },
    {
      "cell_type": "code",
      "source": [
        "import sys\n",
        "sys.path"
      ],
      "metadata": {
        "id": "g5JaNXTXayfj"
      },
      "execution_count": null,
      "outputs": []
    },
    {
      "cell_type": "markdown",
      "source": [
        "### **sys.version**\n",
        "\n",
        "This attribute displays a string containing the version number of the current Python interpreter."
      ],
      "metadata": {
        "id": "6COKdmlY7Iq_"
      }
    },
    {
      "cell_type": "code",
      "source": [
        "import sys\n",
        "sys.version"
      ],
      "metadata": {
        "id": "q3bgogZ6a37y"
      },
      "execution_count": null,
      "outputs": []
    },
    {
      "cell_type": "markdown",
      "source": [
        "### **sys.getsizeof**\n",
        "\n",
        "Return the size of object in bytes."
      ],
      "metadata": {
        "id": "bpsT2At87SpI"
      }
    },
    {
      "cell_type": "code",
      "source": [
        "import sys\n",
        "x = 5\n",
        "sys.getsizeof(x)"
      ],
      "metadata": {
        "id": "V-31xHOUcnzP"
      },
      "execution_count": null,
      "outputs": []
    },
    {
      "cell_type": "code",
      "source": [
        "import sys\n",
        "s = \"hello\"\n",
        "sys.getsizeof(s)"
      ],
      "metadata": {
        "id": "1Hw1_-LEc7yj"
      },
      "execution_count": null,
      "outputs": []
    }
  ]
}