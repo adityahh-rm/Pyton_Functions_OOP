{
  "nbformat": 4,
  "nbformat_minor": 0,
  "metadata": {
    "colab": {
      "name": "Datetime Modulation.ipynb",
      "provenance": [],
      "collapsed_sections": []
    },
    "kernelspec": {
      "name": "python3",
      "display_name": "Python 3"
    },
    "language_info": {
      "name": "python"
    }
  },
  "cells": [
    {
      "cell_type": "markdown",
      "source": [
        "# Datetime Modulation\n",
        "Datetime modulation is a modul in Python works with date and time. Because datetime is a modul, we must import the datetime modul first with this syntax."
      ],
      "metadata": {
        "id": "cgFbP3Hfinrq"
      }
    },
    {
      "cell_type": "code",
      "source": [
        "import datetime"
      ],
      "metadata": {
        "id": "xdx0qn3_ktWS"
      },
      "execution_count": 2,
      "outputs": []
    },
    {
      "cell_type": "markdown",
      "source": [
        "## Current Date and Time\n",
        "To get current date and time, you can run this syntax :"
      ],
      "metadata": {
        "id": "g7kfxZIbjlNU"
      }
    },
    {
      "cell_type": "code",
      "execution_count": 14,
      "metadata": {
        "colab": {
          "base_uri": "https://localhost:8080/"
        },
        "id": "_o3UJ9d2ikBQ",
        "outputId": "1194f2ce-895d-4eb0-f428-551b6b57a230"
      },
      "outputs": [
        {
          "output_type": "stream",
          "name": "stdout",
          "text": [
            "The current date and time is : 2022-04-10 03:50:53.740534\n"
          ]
        }
      ],
      "source": [
        "Current = datetime.datetime.now()\n",
        "print(\"The current date and time is :\", Current)"
      ]
    },
    {
      "cell_type": "markdown",
      "source": [
        "## Current Date\n",
        "To get current date, you can run this syntax :"
      ],
      "metadata": {
        "id": "K9SO-z6gl1r9"
      }
    },
    {
      "cell_type": "code",
      "source": [
        "Today = datetime.date.today()\n",
        "print(\"The current date is :\", Today)"
      ],
      "metadata": {
        "colab": {
          "base_uri": "https://localhost:8080/"
        },
        "id": "oTOfKDW9lA4d",
        "outputId": "c6ee9f0d-2afe-4a53-af9f-b79192898a6f"
      },
      "execution_count": 15,
      "outputs": [
        {
          "output_type": "stream",
          "name": "stdout",
          "text": [
            "The current date is : 2022-04-10\n"
          ]
        }
      ]
    },
    {
      "cell_type": "markdown",
      "source": [
        "## Date Object to Represent a Date"
      ],
      "metadata": {
        "id": "Fq0J7zOVpIe7"
      }
    },
    {
      "cell_type": "code",
      "source": [
        "date = datetime.date(2022,10,4)\n",
        "print(date)"
      ],
      "metadata": {
        "colab": {
          "base_uri": "https://localhost:8080/"
        },
        "id": "FAE-iRGCpQXq",
        "outputId": "1c2eaf1b-4169-4634-ec91-14fbe682b290"
      },
      "execution_count": 20,
      "outputs": [
        {
          "output_type": "stream",
          "name": "stdout",
          "text": [
            "2022-10-04\n"
          ]
        }
      ]
    },
    {
      "cell_type": "markdown",
      "source": [
        "## Format date using strftime()"
      ],
      "metadata": {
        "id": "71AOuH-CnnpK"
      }
    },
    {
      "cell_type": "code",
      "source": [
        "#Current Date and Time\n",
        "a = datetime.datetime.now()\n",
        "\n",
        "#Current date using strftime()\n",
        "date = a.strftime(\"%m/%d/%y\")\n",
        "print(date)\n",
        "\n",
        "#Current time using strftime()\n",
        "time = a.strftime(\"%H:%M\")\n",
        "print(time)"
      ],
      "metadata": {
        "colab": {
          "base_uri": "https://localhost:8080/"
        },
        "id": "DKtfvXcRmb64",
        "outputId": "6e2db172-6392-48f1-ea99-593da28bf677"
      },
      "execution_count": 18,
      "outputs": [
        {
          "output_type": "stream",
          "name": "stdout",
          "text": [
            "04/10/22\n",
            "04:03\n"
          ]
        }
      ]
    },
    {
      "cell_type": "code",
      "source": [
        ""
      ],
      "metadata": {
        "id": "S4CWn6k8oeXF"
      },
      "execution_count": null,
      "outputs": []
    }
  ]
}