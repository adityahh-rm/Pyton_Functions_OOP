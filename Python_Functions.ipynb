{
  "nbformat": 4,
  "nbformat_minor": 0,
  "metadata": {
    "colab": {
      "name": "Python Functions.ipynb",
      "provenance": [],
      "collapsed_sections": []
    },
    "kernelspec": {
      "name": "python3",
      "display_name": "Python 3"
    },
    "language_info": {
      "name": "python"
    }
  },
  "cells": [
    {
      "cell_type": "markdown",
      "source": [
        "# Python Functions"
      ],
      "metadata": {
        "id": "nqtBto4Y2vMz"
      }
    },
    {
      "cell_type": "markdown",
      "source": [
        "A function is a block of code which only runs when it is called.\n",
        "\n",
        "You can pass data, known as parameters, into a function.\n",
        "\n",
        "A function can return data as a result."
      ],
      "metadata": {
        "id": "mbZjyGYU3G26"
      }
    },
    {
      "cell_type": "code",
      "source": [
        ""
      ],
      "metadata": {
        "id": "dcwryiFl-gYW"
      },
      "execution_count": null,
      "outputs": []
    },
    {
      "cell_type": "markdown",
      "source": [
        "##Creating a Function"
      ],
      "metadata": {
        "id": "byI4DESv28Kr"
      }
    },
    {
      "cell_type": "code",
      "execution_count": 2,
      "metadata": {
        "colab": {
          "base_uri": "https://localhost:8080/"
        },
        "id": "Uw4MUR4F2hbb",
        "outputId": "6c203d8d-a3ba-44bc-f5c2-9b70fe290147"
      },
      "outputs": [
        {
          "output_type": "stream",
          "name": "stdout",
          "text": [
            "Hello Word\n"
          ]
        }
      ],
      "source": [
        "def my_function():\n",
        "  print(\"Hello Word\")\n",
        "\n",
        "my_function()"
      ]
    },
    {
      "cell_type": "markdown",
      "source": [
        "##Arguments\n"
      ],
      "metadata": {
        "id": "vIfqBrAT3cL3"
      }
    },
    {
      "cell_type": "markdown",
      "source": [
        "Information can be passed into functions as arguments.\n",
        "\n",
        "Arguments are specified after the function name, inside the parentheses. You can add as many arguments as you want, just separate them with a comma."
      ],
      "metadata": {
        "id": "toFzXcG03fcG"
      }
    },
    {
      "cell_type": "markdown",
      "source": [
        "The following example has a function with one argument (fname). When the function is called, we pass along a first name, which is used inside the function to print the full name:"
      ],
      "metadata": {
        "id": "TBWr4Ex43q0D"
      }
    },
    {
      "cell_type": "code",
      "source": [
        "def my_function(fname):\n",
        "  print(\"Data \" + fname)\n",
        "\n",
        "my_function(\"Science\")\n",
        "my_function(\"Analysist\")\n",
        "my_function(\"Engineering\")"
      ],
      "metadata": {
        "colab": {
          "base_uri": "https://localhost:8080/"
        },
        "id": "ZxkHwGTh3vqB",
        "outputId": "d57a0214-c75c-44e2-a9ec-741fa41f0f24"
      },
      "execution_count": 5,
      "outputs": [
        {
          "output_type": "stream",
          "name": "stdout",
          "text": [
            "Data Science\n",
            "Data Analysist\n",
            "Data Engineering\n"
          ]
        }
      ]
    },
    {
      "cell_type": "markdown",
      "source": [
        "##Parameters or Arguments"
      ],
      "metadata": {
        "id": "Qrv67ywb4tAF"
      }
    },
    {
      "cell_type": "markdown",
      "source": [
        "From a function's perspective:\n",
        "\n",
        "A parameter is the variable listed inside the parentheses in the function definition.\n",
        "\n",
        "An argument is the value that is sent to the function when it is called."
      ],
      "metadata": {
        "id": "3jYkOJ0F4wEF"
      }
    },
    {
      "cell_type": "markdown",
      "source": [
        "##Number of Arguments"
      ],
      "metadata": {
        "id": "APwdCwjf46zL"
      }
    },
    {
      "cell_type": "markdown",
      "source": [
        "By default, a function must be called with the correct number of arguments. Meaning that if your function expects 2 arguments, you have to call the function with 2 arguments, not more, and not less."
      ],
      "metadata": {
        "id": "dRtunwSM4-SJ"
      }
    },
    {
      "cell_type": "markdown",
      "source": [
        "Example\n",
        "This function expects 2 arguments, and gets 2 arguments:"
      ],
      "metadata": {
        "id": "EPogPnei5IU7"
      }
    },
    {
      "cell_type": "code",
      "source": [
        "def my_function(fname, lname):\n",
        "  print(fname + \" \" + lname)\n",
        "\n",
        "my_function(\"Data\", \"Science\")"
      ],
      "metadata": {
        "colab": {
          "base_uri": "https://localhost:8080/"
        },
        "id": "J3f5bVI65FWF",
        "outputId": "9da46f8f-acc6-479f-c457-048832f5e8fb"
      },
      "execution_count": 6,
      "outputs": [
        {
          "output_type": "stream",
          "name": "stdout",
          "text": [
            "Data Science\n"
          ]
        }
      ]
    },
    {
      "cell_type": "markdown",
      "source": [
        "##Arbitrary Arguments, *args"
      ],
      "metadata": {
        "id": "dm1R9npU5Z2P"
      }
    },
    {
      "cell_type": "markdown",
      "source": [
        "If you do not know how many arguments that will be passed into your function, add a * before the parameter name in the function definition.\n",
        "\n",
        "This way the function will receive a tuple of arguments, and can access the items accordingly:"
      ],
      "metadata": {
        "id": "Aeepoisw5bg7"
      }
    },
    {
      "cell_type": "markdown",
      "source": [
        "Example\n",
        "If the number of arguments is unknown, add a * before the parameter name:"
      ],
      "metadata": {
        "id": "AAFIrqPZ5t0H"
      }
    },
    {
      "cell_type": "code",
      "source": [
        "def my_function(*name):\n",
        "  print(\"Data \" + name[2])\n",
        "\n",
        "my_function(\"Science\", \"Analysist\", \"Engineering\")"
      ],
      "metadata": {
        "colab": {
          "base_uri": "https://localhost:8080/"
        },
        "id": "HviXcCSG5u5p",
        "outputId": "eec35da6-54c8-47cb-e562-01fc08cbdf9d"
      },
      "execution_count": 9,
      "outputs": [
        {
          "output_type": "stream",
          "name": "stdout",
          "text": [
            "Data Engineering\n"
          ]
        }
      ]
    },
    {
      "cell_type": "markdown",
      "source": [
        "##Keyword Arguments"
      ],
      "metadata": {
        "id": "-hgBvww96Uwt"
      }
    },
    {
      "cell_type": "markdown",
      "source": [
        "You can also send arguments with the key = value syntax.\n",
        "\n",
        "This way the order of the arguments does not matter."
      ],
      "metadata": {
        "id": "ZeHSx_1i6WPs"
      }
    },
    {
      "cell_type": "markdown",
      "source": [
        "Example"
      ],
      "metadata": {
        "id": "q41gOE4y6c90"
      }
    },
    {
      "cell_type": "code",
      "source": [
        "def my_function(ciri1, ciri2, ciri3):\n",
        "  print(\"Kampus Merdeka \" + ciri2)\n",
        "\n",
        "my_function(ciri1 = \"Magang\", ciri2 = \"independent\", ciri3 = \"Mengajar\")"
      ],
      "metadata": {
        "colab": {
          "base_uri": "https://localhost:8080/"
        },
        "id": "IDer0bL96USG",
        "outputId": "c0112661-6e94-4200-c9fd-a503e2acd4cc"
      },
      "execution_count": 10,
      "outputs": [
        {
          "output_type": "stream",
          "name": "stdout",
          "text": [
            "Kampus Merdeka independent\n"
          ]
        }
      ]
    },
    {
      "cell_type": "markdown",
      "source": [
        "##Arbitrary Keyword Arguments, **kwargs"
      ],
      "metadata": {
        "id": "kDvSj9PR7TI0"
      }
    },
    {
      "cell_type": "markdown",
      "source": [
        "If you do not know how many keyword arguments that will be passed into your function, add two asterisk: ** before the parameter name in the function definition.\n",
        "\n",
        "This way the function will receive a dictionary of arguments, and can access the items accordingly:"
      ],
      "metadata": {
        "id": "bMB2mz9_7bIz"
      }
    },
    {
      "cell_type": "markdown",
      "source": [
        "Example\n",
        "If the number of keyword arguments is unknown, add a double ** before the parameter name:"
      ],
      "metadata": {
        "id": "T6KUqiMo7eQl"
      }
    },
    {
      "cell_type": "code",
      "source": [
        "def my_function(**name):\n",
        "  print(\"Study Independent \" + name[\"fname\"])\n",
        "\n",
        "my_function(fname = \"Data Science Track\", lname = \"Visual Vidio\")"
      ],
      "metadata": {
        "colab": {
          "base_uri": "https://localhost:8080/"
        },
        "id": "cuiVxnez7fbY",
        "outputId": "78917c2d-5e50-4d8a-9563-7e91d063913b"
      },
      "execution_count": 11,
      "outputs": [
        {
          "output_type": "stream",
          "name": "stdout",
          "text": [
            "Study Independent Data Science Track\n"
          ]
        }
      ]
    },
    {
      "cell_type": "markdown",
      "source": [
        "##Default Parameter Value"
      ],
      "metadata": {
        "id": "yVDMW8cl8LXD"
      }
    },
    {
      "cell_type": "markdown",
      "source": [
        "The following example shows how to use a default parameter value.\n",
        "\n",
        "If we call the function without argument, it uses the default value:"
      ],
      "metadata": {
        "id": "r_OFafKD8M26"
      }
    },
    {
      "cell_type": "markdown",
      "source": [
        "Example"
      ],
      "metadata": {
        "id": "JzE4wPco8Q6R"
      }
    },
    {
      "cell_type": "code",
      "source": [
        "def my_function(country = \"Indonesia\"):\n",
        "  print(\"I am from \" + country)\n",
        "\n",
        "my_function(\"Jakarta\")\n",
        "my_function(\"Bandung\")\n",
        "my_function()\n",
        "my_function(\"Jogja\")"
      ],
      "metadata": {
        "colab": {
          "base_uri": "https://localhost:8080/"
        },
        "id": "SqrSWijA8R8w",
        "outputId": "0d0c8692-79f7-43a9-9b41-39f020ebbc53"
      },
      "execution_count": 13,
      "outputs": [
        {
          "output_type": "stream",
          "name": "stdout",
          "text": [
            "I am from Jakarta\n",
            "I am from Bandung\n",
            "I am from Indonesia\n",
            "I am from Jogja\n"
          ]
        }
      ]
    },
    {
      "cell_type": "markdown",
      "source": [
        "##Passing a List as an Argument"
      ],
      "metadata": {
        "id": "M8mcBYMV8oLe"
      }
    },
    {
      "cell_type": "markdown",
      "source": [
        "You can send any data types of argument to a function (string, number, list, dictionary etc.), and it will be treated as the same data type inside the function.\n",
        "\n",
        "E.g. if you send a List as an argument, it will still be a List when it reaches the function:"
      ],
      "metadata": {
        "id": "UI7aMa9h8qFd"
      }
    },
    {
      "cell_type": "markdown",
      "source": [
        "Example"
      ],
      "metadata": {
        "id": "x0Fk-fIp8wrt"
      }
    },
    {
      "cell_type": "code",
      "source": [
        "def my_function(food):\n",
        "  for x in food:\n",
        "    print(x)\n",
        "\n",
        "fruits = [\"apple\", \"banana\", \"cherry\"]\n",
        "\n",
        "my_function(fruits)"
      ],
      "metadata": {
        "colab": {
          "base_uri": "https://localhost:8080/"
        },
        "id": "fwqiO1-48k2p",
        "outputId": "01188deb-6c62-439c-dc58-3e4cf4daad33"
      },
      "execution_count": 14,
      "outputs": [
        {
          "output_type": "stream",
          "name": "stdout",
          "text": [
            "apple\n",
            "banana\n",
            "cherry\n"
          ]
        }
      ]
    },
    {
      "cell_type": "markdown",
      "source": [
        "##Return Values"
      ],
      "metadata": {
        "id": "wA8W70Rw882o"
      }
    },
    {
      "cell_type": "markdown",
      "source": [
        "To let a function return a value, use the return statement:"
      ],
      "metadata": {
        "id": "OPD7w_U58975"
      }
    },
    {
      "cell_type": "markdown",
      "source": [
        "Example"
      ],
      "metadata": {
        "id": "VE6YHb-49A7a"
      }
    },
    {
      "cell_type": "code",
      "source": [
        "def my_function(x):\n",
        "  return 2 * x\n",
        "\n",
        "print(my_function(3))\n",
        "print(my_function(5))\n",
        "print(my_function(9))"
      ],
      "metadata": {
        "colab": {
          "base_uri": "https://localhost:8080/"
        },
        "id": "W8RiEs-S9EvH",
        "outputId": "aba80bd7-0c1b-418c-ee9b-acb6364aa6e9"
      },
      "execution_count": 16,
      "outputs": [
        {
          "output_type": "stream",
          "name": "stdout",
          "text": [
            "6\n",
            "10\n",
            "18\n"
          ]
        }
      ]
    },
    {
      "cell_type": "markdown",
      "source": [
        "##The pass Statement"
      ],
      "metadata": {
        "id": "xmUxh8Q69Q60"
      }
    },
    {
      "cell_type": "markdown",
      "source": [
        "function definitions cannot be empty, but if you for some reason have a function definition with no content, put in the pass statement to avoid getting an error."
      ],
      "metadata": {
        "id": "jvjZY2hW9SGj"
      }
    },
    {
      "cell_type": "markdown",
      "source": [
        "Example"
      ],
      "metadata": {
        "id": "1WTp936X9jAp"
      }
    },
    {
      "cell_type": "code",
      "source": [
        "def myfunction():\n",
        "  pass"
      ],
      "metadata": {
        "id": "mOSE9A3k9YRu"
      },
      "execution_count": 17,
      "outputs": []
    }
  ]
}