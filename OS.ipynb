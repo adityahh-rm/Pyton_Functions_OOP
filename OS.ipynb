{
  "nbformat": 4,
  "nbformat_minor": 0,
  "metadata": {
    "colab": {
      "name": "OS.ipynb",
      "provenance": [],
      "collapsed_sections": []
    },
    "kernelspec": {
      "name": "python3",
      "display_name": "Python 3"
    },
    "language_info": {
      "name": "python"
    }
  },
  "cells": [
    {
      "cell_type": "markdown",
      "source": [
        "# **OS**\n",
        "\n",
        "---\n",
        "\n"
      ],
      "metadata": {
        "id": "Ar3QeSAxXMNo"
      }
    },
    {
      "cell_type": "markdown",
      "source": [
        "The os module is a part of the standard library, or stdlib, within Python. This means that it comes with your Python installation, but you still must import it.\n",
        "\n",
        "Sample code using os :"
      ],
      "metadata": {
        "id": "qOis8NndWvuV"
      }
    },
    {
      "cell_type": "code",
      "execution_count": null,
      "metadata": {
        "id": "xSq-2Dch6Y1j"
      },
      "outputs": [],
      "source": [
        "import os"
      ]
    },
    {
      "cell_type": "markdown",
      "source": [
        "All of the following code assumes you have os imported. Because it is not a built-in function, you must always import it. It is a part of the standard library, however, so you will not need to download or install it separately from your Python installation."
      ],
      "metadata": {
        "id": "v8ACdLh6W2hq"
      }
    },
    {
      "cell_type": "code",
      "source": [
        "curDir = os.getcwd()\n",
        "print(curDir)"
      ],
      "metadata": {
        "id": "jj9SrjjqTjLf"
      },
      "execution_count": null,
      "outputs": []
    },
    {
      "cell_type": "markdown",
      "source": [
        "The above code will get your current working directory, hence \"cwd.\"\n",
        "\n",
        "To make a new directory :"
      ],
      "metadata": {
        "id": "i0tXZ3RmW5lT"
      }
    },
    {
      "cell_type": "code",
      "source": [
        "os.mkdir('newDir')"
      ],
      "metadata": {
        "id": "8HriV4EPTj38"
      },
      "execution_count": null,
      "outputs": []
    },
    {
      "cell_type": "markdown",
      "source": [
        "To change the name of, or rename, a directory :"
      ],
      "metadata": {
        "id": "kyH1NzW7W-4O"
      }
    },
    {
      "cell_type": "code",
      "source": [
        "os.rename('newDir','newDir2')"
      ],
      "metadata": {
        "id": "aGqOkB-wTnVc"
      },
      "execution_count": null,
      "outputs": []
    },
    {
      "cell_type": "markdown",
      "source": [
        "To remove a directory :"
      ],
      "metadata": {
        "id": "4mwgdhWrXI4S"
      }
    },
    {
      "cell_type": "code",
      "source": [
        "os.rmdir('newDir2')"
      ],
      "metadata": {
        "id": "FVCHqi6ITpdH"
      },
      "execution_count": null,
      "outputs": []
    },
    {
      "cell_type": "code",
      "source": [
        "dirName = input(\"Enter Name Folder : \")\n",
        "os.mkdir(dirName)\n",
        "print(\"Directory Created\")"
      ],
      "metadata": {
        "id": "HjZF-6NYXkjp"
      },
      "execution_count": null,
      "outputs": []
    },
    {
      "cell_type": "code",
      "source": [
        "os.rmdir('Data Science')"
      ],
      "metadata": {
        "id": "2nM80Rm7YFSL"
      },
      "execution_count": null,
      "outputs": []
    }
  ]
}