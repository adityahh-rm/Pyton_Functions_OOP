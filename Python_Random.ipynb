{
  "nbformat": 4,
  "nbformat_minor": 0,
  "metadata": {
    "colab": {
      "name": "Python Random.ipynb",
      "provenance": []
    },
    "kernelspec": {
      "name": "python3",
      "display_name": "Python 3"
    },
    "language_info": {
      "name": "python"
    }
  },
  "cells": [
    {
      "cell_type": "markdown",
      "source": [
        "Python has a built-in module that you can use to make random number"
      ],
      "metadata": {
        "id": "6wmH9yL_Zwje"
      }
    },
    {
      "cell_type": "code",
      "execution_count": 1,
      "metadata": {
        "colab": {
          "base_uri": "https://localhost:8080/"
        },
        "id": "0z3-ZNjIZrSW",
        "outputId": "84aec5ff-c619-43de-f0f1-74c980c260fc"
      },
      "outputs": [
        {
          "output_type": "stream",
          "name": "stdout",
          "text": [
            "Random num 0 is 6\n",
            "Random num 1 is 2\n",
            "Random num 2 is 4\n",
            "Random num 3 is 7\n",
            "Random num 4 is 9\n",
            "Random num 5 is 10\n",
            "Random num 6 is 3\n",
            "Random num 7 is 10\n",
            "Random num 8 is 6\n",
            "Random num 9 is 1\n"
          ]
        }
      ],
      "source": [
        "import random\n",
        "from random import randint\n",
        "for i in range(10):\n",
        "  print(f\"Random num {i} is {randint(1,10)}\")"
      ]
    },
    {
      "cell_type": "markdown",
      "source": [
        "The random module has a set of methods:"
      ],
      "metadata": {
        "id": "JHTBy0RnZ-R3"
      }
    },
    {
      "cell_type": "markdown",
      "source": [
        "- seed()\tInitialize the random number generator\n",
        "- getstate()\tReturns the current internal state of the random number generator\n",
        "- setstate()\tRestores the internal state of the random number generator\n",
        "- getrandbits()\tReturns a number representing the random bits\n",
        "- randrange()\tReturns a random number between the given range\n",
        "- randint()\tReturns a random number between the given range\n",
        "- choice()\tReturns a random element from the given sequence\n",
        "- choices()\tReturns a list with a random selection from the given sequence\n",
        "- shuffle()\tTakes a sequence and returns the sequence in a random order\n",
        "- sample()\tReturns a given sample of a sequence\n",
        "- random()\tReturns a random float number between 0 and 1\n",
        "- uniform()\tReturns a random float number between two given parameters\n",
        "triangular()\tReturns a random float number between two given parameters, you can also set a mode parameter to specify the midpoint between the two other parameters\n",
        "- betavariate()\tReturns a random float number between 0 and 1 based on the Beta distribution (used in statistics)\n",
        "- expovariate()\tReturns a random float number based on the Exponential distribution (used in statistics)\n",
        "- gammavariate()\tReturns a random float number based on the Gamma distribution (used in statistics)\n",
        "- gauss()\tReturns a random float number based on the Gaussian distribution (used in probability theories)\n",
        "- lognormvariate()\tReturns a random float number based on a log-normal distribution (used in probability theories)\n",
        "- normalvariate()\tReturns a random float number based on the normal distribution (used in probability theories)\n",
        "- vonmisesvariate()\tReturns a random float number based on the von Mises distribution (used in directional statistics)\n",
        "- paretovariate()\tReturns a random float number based on the Pareto distribution (used in probability theories)\n",
        "- weibullvariate()\tReturns a random float number based on the Weibull distribution (used in statistics)"
      ],
      "metadata": {
        "id": "cklRLBAzaBmu"
      }
    }
  ]
}