{
  "nbformat": 4,
  "nbformat_minor": 0,
  "metadata": {
    "colab": {
      "name": "Python Math.ipynb",
      "provenance": []
    },
    "kernelspec": {
      "name": "python3",
      "display_name": "Python 3"
    },
    "language_info": {
      "name": "python"
    }
  },
  "cells": [
    {
      "cell_type": "markdown",
      "source": [
        "# The Math Module"
      ],
      "metadata": {
        "id": "X2B01JEIVrmG"
      }
    },
    {
      "cell_type": "markdown",
      "source": [
        "Python has also a built-in module called math, which extends the list of mathematical functions.\n",
        "\n",
        "To use it, you must import the math module:"
      ],
      "metadata": {
        "id": "fRc04vzyWM4F"
      }
    },
    {
      "cell_type": "code",
      "source": [
        "import math"
      ],
      "metadata": {
        "id": "UV05Xg8uWP7n"
      },
      "execution_count": null,
      "outputs": []
    },
    {
      "cell_type": "markdown",
      "source": [
        "When you have imported the math module, you can start using methods and constants of the module.\n",
        "\n",
        "The math.sqrt() method for example, returns the square root of a number:"
      ],
      "metadata": {
        "id": "Jm3XDnn-WaBk"
      }
    },
    {
      "cell_type": "code",
      "source": [
        "#Import math library\n",
        "import math\n",
        "\n",
        "x=math.sqrt(25)\n",
        "\n",
        "print(x)"
      ],
      "metadata": {
        "colab": {
          "base_uri": "https://localhost:8080/"
        },
        "id": "Cirfzn-_Wdof",
        "outputId": "1c9cbfaa-c719-46a8-afff-43af28fb83e9"
      },
      "execution_count": 2,
      "outputs": [
        {
          "output_type": "stream",
          "name": "stdout",
          "text": [
            "5.0\n"
          ]
        }
      ]
    },
    {
      "cell_type": "markdown",
      "source": [
        "The math.ceil() method rounds a number upwards to its nearest integer, and the math.floor() method rounds a number downwards to its nearest integer, and returns the result:"
      ],
      "metadata": {
        "id": "ZVdYdYliW-i1"
      }
    },
    {
      "cell_type": "code",
      "source": [
        "#Import math library\n",
        "import math\n",
        "\n",
        "#Round a number upward to its nearest integer\n",
        "x = math.ceil(2.4)\n",
        "\n",
        "#Round a number downward to its nearest integer\n",
        "y = math.floor(2.4)\n",
        "\n",
        "print(x)\n",
        "print(y)"
      ],
      "metadata": {
        "colab": {
          "base_uri": "https://localhost:8080/"
        },
        "id": "c2pSfDC5W0Ss",
        "outputId": "60181d9e-45cf-4d3c-cba1-d273dafeb384"
      },
      "execution_count": 3,
      "outputs": [
        {
          "output_type": "stream",
          "name": "stdout",
          "text": [
            "3\n",
            "2\n"
          ]
        }
      ]
    },
    {
      "cell_type": "markdown",
      "source": [
        "The math.pi constant, returns the value of PI (3.14...):"
      ],
      "metadata": {
        "id": "fB4DergqXCed"
      }
    },
    {
      "cell_type": "code",
      "source": [
        "import math\n",
        "\n",
        "x = math.pi\n",
        "\n",
        "print(x)"
      ],
      "metadata": {
        "colab": {
          "base_uri": "https://localhost:8080/"
        },
        "id": "Y_Nh0Cw4XDB2",
        "outputId": "7e970b30-e7a6-4e6b-cf17-418a68f98d6d"
      },
      "execution_count": 4,
      "outputs": [
        {
          "output_type": "stream",
          "name": "stdout",
          "text": [
            "3.141592653589793\n"
          ]
        }
      ]
    },
    {
      "cell_type": "markdown",
      "source": [
        "Simple calculation of the circumference and area of a circle"
      ],
      "metadata": {
        "id": "Z_i8UxnxXTDs"
      }
    },
    {
      "cell_type": "code",
      "source": [
        "import math\n",
        "\n",
        "r = float(input(\"Jari-Jari : \"))\n",
        "\n",
        "keliling = 2*math.pi*r\n",
        "luas = math.pi*(r*r)\n",
        "\n",
        "print(\"Keliling : \",keliling)\n",
        "print(\"Luas : \",luas)"
      ],
      "metadata": {
        "colab": {
          "base_uri": "https://localhost:8080/"
        },
        "id": "sk_ZibmEXSfm",
        "outputId": "f2f5f0fa-affe-4789-bbdc-135bc34abf51"
      },
      "execution_count": 5,
      "outputs": [
        {
          "output_type": "stream",
          "name": "stdout",
          "text": [
            "Jari-Jari : 7\n",
            "Keliling :  43.982297150257104\n",
            "Luas :  153.93804002589985\n"
          ]
        }
      ]
    },
    {
      "cell_type": "markdown",
      "source": [
        "#Python math Module"
      ],
      "metadata": {
        "id": "dLii395qV3r_"
      }
    },
    {
      "cell_type": "markdown",
      "source": [
        "Python has a built-in module that you can use for mathematical tasks.\n",
        "\n",
        "The math module has a set of methods and constants."
      ],
      "metadata": {
        "id": "cqJnG8qMXlMN"
      }
    },
    {
      "cell_type": "markdown",
      "source": [
        "Math Methods\n",
        "\n",
        "- math.acos()\tReturns the arc cosine of a number\n",
        "- math.acosh()\tReturns the inverse hyperbolic cosine of a number\n",
        "- math.asin()\tReturns the arc sine of a number\n",
        "- math.asinh()\tReturns the inverse hyperbolic sine of a number\n",
        "- math.atan()\tReturns the arc tangent of a number in radians\n",
        "- math.atan2()\tReturns the arc tangent of y/x in radians\n",
        "- math.atanh()\tReturns the inverse hyperbolic tangent of a number\n",
        "- math.ceil()\tRounds a number up to the nearest integer\n",
        "- math.comb()\tReturns the number of ways to choose k items from n items without repetition and order\n",
        "- math.copysign()\tReturns a float consisting of the value of the first parameter and the sign of the second parameter\n",
        "- math.cos()\tReturns the cosine of a number\n",
        "- math.cosh()\tReturns the hyperbolic cosine of a number\n",
        "- math.degrees()\tConverts an angle from radians to degrees\n",
        "- math.dist()\tReturns the Euclidean distance between two points (p and q), - where p and q are the coordinates of that point\n",
        "- math.erf()\tReturns the error function of a number\n",
        "- math.erfc()\tReturns the complementary error function of a number\n",
        "- math.exp()\tReturns E raised to the power of x\n",
        "- math.expm1()\tReturns Ex - 1\n",
        "- math.fabs()\tReturns the absolute value of a number\n",
        "- math.factorial()\tReturns the factorial of a number\n",
        "- math.floor()\tRounds a number down to the nearest integer\n",
        "- math.fmod()\tReturns the remainder of x/y\n",
        "- math.frexp()\tReturns the mantissa and the exponent, of a specified number\n",
        "- math.fsum()\tReturns the sum of all items in any iterable (tuples, arrays, lists, etc.)\n",
        "- math.gamma()\tReturns the gamma function at x\n",
        "- math.gcd()\tReturns the greatest common divisor of two integers\n",
        "- math.hypot()\tReturns the Euclidean norm\n",
        "- math.isclose()\tChecks whether two values are close to each other, or not\n",
        "- math.isfinite()\tChecks whether a number is finite or not\n",
        "- math.isinf()\tChecks whether a number is infinite or not\n",
        "- math.isnan()\tChecks whether a value is NaN (not a number) or not\n",
        "- math.isqrt()\tRounds a square root number downwards to the nearest integer\n",
        "- math.ldexp()\tReturns the inverse of math.frexp() which is x * (2**i) of the given numbers x and i\n",
        "- math.lgamma()\tReturns the log gamma value of x\n",
        "- math.log()\tReturns the natural logarithm of a number, or the logarithm of number to base\n",
        "- math.log10()\tReturns the base-10 logarithm of x\n",
        "- math.log1p()\tReturns the natural logarithm of 1+x\n",
        "- math.log2()\tReturns the base-2 logarithm of x\n",
        "- math.perm()\tReturns the number of ways to choose k items from n items with order and without repetition\n",
        "- math.pow()\tReturns the value of x to the power of y\n",
        "- math.prod()\tReturns the product of all the elements in an iterable\n",
        "- math.radians()\tConverts a degree value into radians\n",
        "- math.remainder()\tReturns the closest value that can make numerator completely divisible by the denominator\n",
        "- math.sin()\tReturns the sine of a number\n",
        "- math.sinh()\tReturns the hyperbolic sine of a number\n",
        "- math.sqrt()\tReturns the square root of a number\n",
        "- math.tan()\tReturns the tangent of a number\n",
        "- math.tanh()\tReturns the hyperbolic tangent of a number\n",
        "- math.trunc()\tReturns the truncated integer parts of a number\n",
        "\n"
      ],
      "metadata": {
        "id": "0Kkzri4UXqXG"
      }
    },
    {
      "cell_type": "markdown",
      "source": [
        "Math Constants\n",
        "- math.e\tReturns Euler's number (2.7182...)\n",
        "- math.inf\tReturns a floating-point positive infinity\n",
        "- math.nan\tReturns a floating-point NaN (Not a Number) value\n",
        "- math.pi\tReturns PI (3.1415...)\n",
        "- math.tau\tReturns tau (6.2831...)"
      ],
      "metadata": {
        "id": "jNKPwOkgYZaM"
      }
    }
  ]
}