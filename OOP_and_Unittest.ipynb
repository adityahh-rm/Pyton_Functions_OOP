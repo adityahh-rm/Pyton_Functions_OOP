{
  "nbformat": 4,
  "nbformat_minor": 0,
  "metadata": {
    "colab": {
      "name": "OOP and Unittest.ipynb",
      "provenance": [],
      "collapsed_sections": [
        "qFzqozx0l1BR",
        "5nNb1Ga2h6Vy"
      ]
    },
    "kernelspec": {
      "name": "python3",
      "display_name": "Python 3"
    },
    "language_info": {
      "name": "python"
    }
  },
  "cells": [
    {
      "cell_type": "markdown",
      "source": [
        "-----\n",
        "#**OBJECT-ORIENTED PROGRAMMING (OOP)**\n",
        "> Object-Oriented Programming (OOPs) is a programming paradigm that uses objects and classes in programming. The main concept of OOPs is to bind the data and the functions that work on that together as a single unit so that no other part of the code can access this data."
      ],
      "metadata": {
        "id": "qFzqozx0l1BR"
      }
    },
    {
      "cell_type": "markdown",
      "source": [
        "**Main Concepts of OOP**\n",
        "*   Class\n",
        "*   Objects\n",
        "*   Polymorphism\n",
        "*   Encapsulation\n",
        "*   Inheritance\n",
        "\n",
        "But, we only explain it until Objects.\n",
        "\n"
      ],
      "metadata": {
        "id": "EvOyF0cFmJKv"
      }
    },
    {
      "cell_type": "markdown",
      "source": [
        "**CLASS**\n",
        "> A class is a *collection of objects*. A class contains the blueprints or the prototype from which the objects are being created. It is a logical entity that contains some attributes and methods.\n",
        "``` Instantion class using ( ) ```"
      ],
      "metadata": {
        "id": "m0ldGIqth3il"
      }
    },
    {
      "cell_type": "markdown",
      "source": [
        "```\n",
        "class ClassName:\n",
        "   # Statement-1\n",
        "   .\n",
        "   # Statement-N\n",
        "```"
      ],
      "metadata": {
        "id": "G6kTIEWrngpr"
      }
    },
    {
      "cell_type": "markdown",
      "source": [
        "##**Object Method**"
      ],
      "metadata": {
        "id": "gDdTWeGPpwej"
      }
    },
    {
      "cell_type": "code",
      "source": [
        "class Calculator: #Class\n",
        "  def __init__(self, num1, num2):\n",
        "    self.num1 = num1\n",
        "    self.num2 = num2\n",
        "\n",
        "  def addition(self):\n",
        "    self.add = self.num1 + self.num2\n",
        "    return self.add"
      ],
      "metadata": {
        "id": "8mmK4I-7ngPa"
      },
      "execution_count": 1,
      "outputs": []
    },
    {
      "cell_type": "code",
      "source": [
        "cal = Calculator(3,2)"
      ],
      "metadata": {
        "id": "7jf58bKCh6mc"
      },
      "execution_count": 2,
      "outputs": []
    },
    {
      "cell_type": "markdown",
      "source": [
        "variable **cal is an Object** from Calucator class"
      ],
      "metadata": {
        "id": "nqo9Dd8-qRuP"
      }
    },
    {
      "cell_type": "code",
      "source": [
        "cal.addition()"
      ],
      "metadata": {
        "colab": {
          "base_uri": "https://localhost:8080/"
        },
        "id": "G3tRrSwLn3uo",
        "outputId": "4c91052a-5d67-4a3a-8ef8-1b36b61e9512"
      },
      "execution_count": 3,
      "outputs": [
        {
          "output_type": "execute_result",
          "data": {
            "text/plain": [
              "5"
            ]
          },
          "metadata": {},
          "execution_count": 3
        }
      ]
    },
    {
      "cell_type": "markdown",
      "source": [
        "we can also using this method to call the function in class."
      ],
      "metadata": {
        "id": "X2QoxcvRn7gX"
      }
    },
    {
      "cell_type": "code",
      "source": [
        "Calculator.addition(cal)"
      ],
      "metadata": {
        "colab": {
          "base_uri": "https://localhost:8080/"
        },
        "id": "dsf-m-mpn5mR",
        "outputId": "7ed05047-ec4e-4fce-d48d-ef270f65d7e7"
      },
      "execution_count": 4,
      "outputs": [
        {
          "output_type": "execute_result",
          "data": {
            "text/plain": [
              "5"
            ]
          },
          "metadata": {},
          "execution_count": 4
        }
      ]
    },
    {
      "cell_type": "markdown",
      "source": [
        "from syntax above we will describe\n",
        "*  **self** parameter\n",
        "*  __init__()\n",
        "\n"
      ],
      "metadata": {
        "id": "lNtkJFvBoEyP"
      }
    },
    {
      "cell_type": "markdown",
      "source": [
        "###**self** parameter\n",
        "> The self parameter is a reference to the current instance of the class, and is used to access variables that belongs to the class. It has to be the first parameter of any function in the class"
      ],
      "metadata": {
        "id": "2bWFXQAooSYg"
      }
    },
    {
      "cell_type": "markdown",
      "source": [
        "###**def __ init __**\n",
        "> All classes have a function called __ init__(), which is always executed when the class is being initiated. Use the __ init__() function to assign values to object properties, or other operations that are necessary to do when the object is being created"
      ],
      "metadata": {
        "id": "kO2EF67AoYYX"
      }
    },
    {
      "cell_type": "markdown",
      "source": [
        "##**Class Method**\n",
        "> which returns a class method for a given function."
      ],
      "metadata": {
        "id": "mdy_KuFcp0oQ"
      }
    },
    {
      "cell_type": "code",
      "source": [
        "class Calculator_cm:\n",
        "\n",
        "  def __init__(self, num1, num2):\n",
        "    self.num1 = num1\n",
        "    self.num2 = num2\n",
        "\n",
        "  @classmethod\n",
        "  def addition(cls, num1, num2):\n",
        "    cls.addNum = num1 + num2\n",
        "    return cls.addNum"
      ],
      "metadata": {
        "id": "tobkMgJaoN9e"
      },
      "execution_count": 5,
      "outputs": []
    },
    {
      "cell_type": "code",
      "source": [
        "k = Calculator_cm\n",
        "\n",
        "k.addition(4,5)"
      ],
      "metadata": {
        "colab": {
          "base_uri": "https://localhost:8080/"
        },
        "id": "OEJ-lOF-oEaX",
        "outputId": "78e54ead-8c96-471a-c3c8-c640f4603bc3"
      },
      "execution_count": 6,
      "outputs": [
        {
          "output_type": "execute_result",
          "data": {
            "text/plain": [
              "9"
            ]
          },
          "metadata": {},
          "execution_count": 6
        }
      ]
    },
    {
      "cell_type": "markdown",
      "source": [
        "##**Static Method**"
      ],
      "metadata": {
        "id": "nLK2mGYiqeeA"
      }
    },
    {
      "cell_type": "code",
      "source": [
        "class Calculator_sm:\n",
        "\n",
        "  def __init__(self, num1, num2):\n",
        "    self.num1 = num1\n",
        "    self.num2 = num2\n",
        "\n",
        "  def addition(num1, num2):\n",
        "    addNum = num1 + num2\n",
        "    return addNum"
      ],
      "metadata": {
        "id": "eWzEvf1eqj-n"
      },
      "execution_count": 7,
      "outputs": []
    },
    {
      "cell_type": "code",
      "source": [
        "cal = Calculator_sm\n",
        "\n",
        "print(\"Addition\",cal.addition(7,9))"
      ],
      "metadata": {
        "colab": {
          "base_uri": "https://localhost:8080/"
        },
        "id": "m5Fdk6lQqmL2",
        "outputId": "5ea53ffe-88d7-402d-82d0-58db704ebceb"
      },
      "execution_count": 8,
      "outputs": [
        {
          "output_type": "stream",
          "name": "stdout",
          "text": [
            "Addition 16\n"
          ]
        }
      ]
    },
    {
      "cell_type": "markdown",
      "source": [
        "#**UNITTEST**\n",
        "> **Unit Testing** is the first level of software testing where the smallest testable parts of a software are tested. This is used to validate that each unit of the software performs as designed.\n",
        "\n",
        "> **Unittest** is also a* software testing* process that ensures *every unit/function of the program is tested*."
      ],
      "metadata": {
        "id": "5nNb1Ga2h6Vy"
      }
    },
    {
      "cell_type": "code",
      "execution_count": 9,
      "metadata": {
        "colab": {
          "base_uri": "https://localhost:8080/",
          "height": 337
        },
        "id": "uprQRe7FemIm",
        "outputId": "d1d5eedc-3ec6-4604-fe0e-0c7fd6fcbe43"
      },
      "outputs": [
        {
          "output_type": "stream",
          "name": "stderr",
          "text": [
            "E\n",
            "======================================================================\n",
            "ERROR: /root/ (unittest.loader._FailedTest)\n",
            "----------------------------------------------------------------------\n",
            "AttributeError: module '__main__' has no attribute '/root/'\n",
            "\n",
            "----------------------------------------------------------------------\n",
            "Ran 1 test in 0.001s\n",
            "\n",
            "FAILED (errors=1)\n"
          ]
        },
        {
          "output_type": "error",
          "ename": "SystemExit",
          "evalue": "ignored",
          "traceback": [
            "An exception has occurred, use %tb to see the full traceback.\n",
            "\u001b[0;31mSystemExit\u001b[0m\u001b[0;31m:\u001b[0m True\n"
          ]
        },
        {
          "output_type": "stream",
          "name": "stderr",
          "text": [
            "/usr/local/lib/python3.7/dist-packages/IPython/core/interactiveshell.py:2890: UserWarning: To exit: use 'exit', 'quit', or Ctrl-D.\n",
            "  warn(\"To exit: use 'exit', 'quit', or Ctrl-D.\", stacklevel=1)\n"
          ]
        }
      ],
      "source": [
        "import unittest\n",
        "\n",
        "a = 3\n",
        "b = 5\n",
        "\n",
        "class Test__53a_UnitTest(unittest.TestCase):\n",
        "\n",
        "    def test_equal(self):\n",
        "        self.assertEqual(3 + 4, a + b)\n",
        "    \n",
        "    def test_greater(self):\n",
        "        self.assertTrue(a + b > 3 + 4)\n",
        "\n",
        "    if __name__ == '__main__':\n",
        "        unittest.main()\n",
        "\n",
        "    #Output is Error -----"
      ]
    },
    {
      "cell_type": "markdown",
      "source": [
        "Unittest is just a small sample of unit tests in general. We here just tried some basic terms.\n",
        "\n",
        "*   Line 9 : **assertEqual()** --> This statement is used to check if the result obtained is equal to the expected result.\n",
        "*   Line 11 : **assertTrue()** --> This statement is used to verify if a given statement is true.\n",
        "\n"
      ],
      "metadata": {
        "id": "4CAHWUBTr2XL"
      }
    }
  ]
}