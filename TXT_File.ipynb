{
  "nbformat": 4,
  "nbformat_minor": 0,
  "metadata": {
    "colab": {
      "name": "TXT File.ipynb",
      "provenance": [],
      "collapsed_sections": []
    },
    "kernelspec": {
      "name": "python3",
      "display_name": "Python 3"
    },
    "language_info": {
      "name": "python"
    }
  },
  "cells": [
    {
      "cell_type": "markdown",
      "source": [
        "# **TXT File - How to Open, Read, and Write Files in Python**\n",
        "\n",
        "---\n",
        "\n"
      ],
      "metadata": {
        "id": "YWyzmFMEA93o"
      }
    },
    {
      "cell_type": "markdown",
      "source": [
        "**Opening Text Files – Read Mode**\n",
        "\n",
        "To open a text file use the open command. Make sure the file name and path are correct. If the mode parameter is not defined, the default is read mode."
      ],
      "metadata": {
        "id": "KHuhS2mLBVDR"
      }
    },
    {
      "cell_type": "code",
      "execution_count": null,
      "metadata": {
        "id": "ACiqbyavx5xb"
      },
      "outputs": [],
      "source": [
        "# if in the same directory path can be ignored\n",
        "myfile = open(\"example.txt\", \"r\")"
      ]
    },
    {
      "cell_type": "code",
      "source": [
        "myfiletest = myfile.read()"
      ],
      "metadata": {
        "id": "78paZO1DM7wv"
      },
      "execution_count": null,
      "outputs": []
    },
    {
      "cell_type": "code",
      "source": [
        "print(myfiletest)"
      ],
      "metadata": {
        "id": "0KvOwQQQND2S"
      },
      "execution_count": null,
      "outputs": []
    },
    {
      "cell_type": "markdown",
      "source": [
        "If myfile is called, it will return the myfile object information. We can see information such as file name, file mode as in the example below is “r”, which is read mode."
      ],
      "metadata": {
        "id": "IIEkQxuUMps3"
      }
    },
    {
      "cell_type": "markdown",
      "source": [
        "**Reading Text File Contents**\n",
        "\n",
        "To read the contents of a text file, use the read() method. Python uses the cursor system. When a text file is opened, the cursor will be at the beginning of the file. After executing the read command, the cursor will be at the eof (end of file).\n",
        "\n",
        "If the command read again is repeated, then the return obtained is an empty string, because the cursor is in eof. Therefore, to manipulate the contents of the file, we need to store it in a variable first."
      ],
      "metadata": {
        "id": "V6jBtMnUNsFt"
      }
    },
    {
      "cell_type": "code",
      "source": [
        "myfile = open(\"example.txt\", \"r\")"
      ],
      "metadata": {
        "id": "z2SI7yEv6Uel"
      },
      "execution_count": null,
      "outputs": []
    },
    {
      "cell_type": "code",
      "source": [
        "myfilefirstline = myfile.readline()"
      ],
      "metadata": {
        "id": "Mx-OfAQ-ODqL"
      },
      "execution_count": null,
      "outputs": []
    },
    {
      "cell_type": "code",
      "source": [
        "print(myfilefirstline)"
      ],
      "metadata": {
        "id": "LXfNR2CtOMnY"
      },
      "execution_count": null,
      "outputs": []
    },
    {
      "cell_type": "markdown",
      "source": [
        "Python also provides a readlines() command to read the contents of a file line by line and store it in a list of strings."
      ],
      "metadata": {
        "id": "oqB-vkT2PB50"
      }
    },
    {
      "cell_type": "code",
      "source": [
        "myfilesecondline = myfile.readline()"
      ],
      "metadata": {
        "id": "xCiOWUfEOe1V"
      },
      "execution_count": null,
      "outputs": []
    },
    {
      "cell_type": "code",
      "source": [
        "print(myfilesecondline)"
      ],
      "metadata": {
        "id": "mxF57ia0Os5B"
      },
      "execution_count": null,
      "outputs": []
    },
    {
      "cell_type": "markdown",
      "source": [
        "**Writing Into a Text File**\n",
        "\n",
        "To write to a file, you can use write mode. If the file does not exist, a new file will be created.\n",
        "\n",
        "\"w+\" : Can write and read files.\n",
        "\n",
        "\"w\"  : Only writes files.\n",
        "\n",
        "Caution w mode will delete the contents of the file (if any). Look at the read() command, it will return an empty string. The contents of the previous file have been removed.\n",
        "\n",
        "To write to a file use the write() command. Attention, cursor position will be eof after write command. If you want to read the contents of the file, you need to return the cursor to the beginning of the file."
      ],
      "metadata": {
        "id": "qRYQc_QiPDiQ"
      }
    },
    {
      "cell_type": "code",
      "source": [
        "myfile = open(\"example.txt\", \"w+\")"
      ],
      "metadata": {
        "id": "FzSDsEdDPtOt"
      },
      "execution_count": null,
      "outputs": []
    },
    {
      "cell_type": "code",
      "source": [
        "myfile.read()"
      ],
      "metadata": {
        "id": "NVaJ--1IP33v"
      },
      "execution_count": null,
      "outputs": []
    },
    {
      "cell_type": "code",
      "source": [
        "myfile.write('New Text')"
      ],
      "metadata": {
        "id": "ly5z8LUmP7CT"
      },
      "execution_count": null,
      "outputs": []
    },
    {
      "cell_type": "code",
      "source": [
        "myfile.seek(0)"
      ],
      "metadata": {
        "id": "wCTRw0UvQXGL"
      },
      "execution_count": null,
      "outputs": []
    },
    {
      "cell_type": "code",
      "source": [
        "myfile.read()"
      ],
      "metadata": {
        "id": "BPtzjfT3QAy0"
      },
      "execution_count": null,
      "outputs": []
    },
    {
      "cell_type": "markdown",
      "source": [
        "**Adding Text File Contents**\n",
        "\n",
        "If in write mode the contents of the previous file are removed, with append mode, the contents of the previous file will not be discarded. If the file does not exist, a new file will be created."
      ],
      "metadata": {
        "id": "Nv3955aRQzby"
      }
    },
    {
      "cell_type": "code",
      "source": [
        "myfile = open(\"example.txt\", \"a+\")"
      ],
      "metadata": {
        "id": "BMj6_eIaQ7s-"
      },
      "execution_count": null,
      "outputs": []
    },
    {
      "cell_type": "code",
      "source": [
        "myfile.write('\\nResult of append')"
      ],
      "metadata": {
        "id": "T-Mm1m62RCBK"
      },
      "execution_count": null,
      "outputs": []
    },
    {
      "cell_type": "code",
      "source": [
        "myfile.seek(0)"
      ],
      "metadata": {
        "id": "DTnkkmxuRCU-"
      },
      "execution_count": null,
      "outputs": []
    },
    {
      "cell_type": "code",
      "source": [
        "myfile.read()"
      ],
      "metadata": {
        "id": "8WUiaYoORCra"
      },
      "execution_count": null,
      "outputs": []
    },
    {
      "cell_type": "code",
      "source": [
        "myfile.seek(0)\n",
        "print(myfile.read())"
      ],
      "metadata": {
        "id": "-a9mebHPRPnV"
      },
      "execution_count": null,
      "outputs": []
    },
    {
      "cell_type": "markdown",
      "source": [
        "\"a+\" : add and read the contents of the file.\n",
        "\n",
        "\"a\"  : only adds to the contents of the file.\n",
        "\n",
        "The string in the write command uses escape \\n so that the text is stored on the next line. On the print command, the output will be displayed in 2 lines of text. If you want it on one line, there's no need to add an escape newline (\\n)."
      ],
      "metadata": {
        "id": "T0mFeH7NRoQk"
      }
    },
    {
      "cell_type": "markdown",
      "source": [
        "**Closing Files**\n",
        "\n",
        "Another important thing is that after opening the file, don't forget to close it. By using the close() command."
      ],
      "metadata": {
        "id": "rLdgtNXnRvWE"
      }
    },
    {
      "cell_type": "code",
      "source": [
        "#closing file\n",
        "myfile.close()"
      ],
      "metadata": {
        "id": "auCuJsnsR1mb"
      },
      "execution_count": null,
      "outputs": []
    }
  ]
}